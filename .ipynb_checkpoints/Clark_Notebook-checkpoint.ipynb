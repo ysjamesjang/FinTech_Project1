{
 "cells": [
  {
   "cell_type": "code",
   "execution_count": 31,
   "metadata": {
    "ExecuteTime": {
     "end_time": "2021-06-12T17:32:19.581340Z",
     "start_time": "2021-06-12T17:32:19.563417Z"
    }
   },
   "outputs": [],
   "source": [
    "import requests\n",
    "import pandas as pd\n",
    "import numpy as np\n",
    "import quandl\n",
    "from datetime import datetime"
   ]
  },
  {
   "cell_type": "code",
   "execution_count": 5,
   "metadata": {
    "ExecuteTime": {
     "end_time": "2021-06-12T16:27:24.626566Z",
     "start_time": "2021-06-12T16:27:24.622577Z"
    }
   },
   "outputs": [],
   "source": [
    "quandl.ApiConfig.api_key = \"r_d9-mgZX7FE_-U-GxqY\""
   ]
  },
  {
   "cell_type": "code",
   "execution_count": 47,
   "metadata": {
    "ExecuteTime": {
     "end_time": "2021-06-12T17:38:30.834604Z",
     "start_time": "2021-06-12T17:38:30.463680Z"
    },
    "scrolled": true
   },
   "outputs": [],
   "source": [
    "states = quandl.get('FMAC/HPI_ST_NSA', start_date='2015-01-1', end_date='2020-12-31').reset_index()\n",
    "states['Date'] =  pd.to_datetime(states['Date'])"
   ]
  },
  {
   "cell_type": "code",
   "execution_count": 56,
   "metadata": {
    "ExecuteTime": {
     "end_time": "2021-06-12T17:46:11.862581Z",
     "start_time": "2021-06-12T17:46:11.846623Z"
    },
    "scrolled": true
   },
   "outputs": [],
   "source": [
    "northeast = states[['Date','Connecticut (CT)', 'Maine (ME)', 'Massachusetts (MA)', 'New Hampshire (NH)', \n",
    "                    'Rhode Island (RI)', 'Vermont (VT)', 'New Jersey (NJ)', 'New York (NY)', 'Pennsylvania (PA)']]\n",
    "northeast.to_csv(r'D:\\Dropbox\\Northwestern Bootcamp\\FinTech_Project1\\Resources\\northeast.csv', index = False)"
   ]
  },
  {
   "cell_type": "code",
   "execution_count": 57,
   "metadata": {
    "ExecuteTime": {
     "end_time": "2021-06-12T17:46:41.247363Z",
     "start_time": "2021-06-12T17:46:41.231391Z"
    },
    "scrolled": true
   },
   "outputs": [],
   "source": [
    "midwest = states[['Date', 'Illinois (IL)', 'Indiana (IN)', 'Michigan (MI)', 'Ohio (OH)', 'Wisconsin (WI)', \n",
    "                 'Iowa (IA)', 'Kansas (KS)', 'Minnesota (MN)', 'Missouri (MO)', 'Nebraska (NE)', 'North Dakota (ND)', 'South Dakota (SD)']]\n",
    "midwest.to_csv(r'D:\\Dropbox\\Northwestern Bootcamp\\FinTech_Project1\\Resources\\midwest.csv', index = False)"
   ]
  },
  {
   "cell_type": "code",
   "execution_count": 58,
   "metadata": {
    "ExecuteTime": {
     "end_time": "2021-06-12T17:46:49.733449Z",
     "start_time": "2021-06-12T17:46:49.717511Z"
    },
    "scrolled": true
   },
   "outputs": [],
   "source": [
    "south = states[['Date', 'Delaware (DE)', 'Florida (FL)', 'Georgia (GA)', 'Maryland (MD)', 'North Carolina (NC)', \n",
    "                'South Carolina (SC)', 'Virginia (VA)', 'District of Columbia (DC)', 'West Virginia (WV)',\n",
    "               'Alabama (AL)', 'Kentucky (KY)', 'Mississippi (MS)', 'Tennessee (TN)', 'Arkansas (AR)', 'Louisiana (LA)', \n",
    "                'Oklahoma (OK)', 'Texas (TX)']]\n",
    "south.to_csv(r'D:\\Dropbox\\Northwestern Bootcamp\\FinTech_Project1\\Resources\\south.csv', index = False)"
   ]
  },
  {
   "cell_type": "code",
   "execution_count": 59,
   "metadata": {
    "ExecuteTime": {
     "end_time": "2021-06-12T17:47:04.967348Z",
     "start_time": "2021-06-12T17:47:04.671927Z"
    },
    "scrolled": true
   },
   "outputs": [],
   "source": [
    "west = states[['Date', 'Arizona (AZ)', 'Colorado (CO)', 'Idaho (ID)', 'Montana (MT)', 'Nevada (NV)', \n",
    "               'New Mexico (NM)', 'Utah (UT)', 'Wyoming (WY)',\n",
    "              'Alaska (AK)', 'California (CA)', 'Hawaii (HI)', 'Oregon (OR)', 'Washington (WA)']]\n",
    "west.to_csv(r'D:\\Dropbox\\Northwestern Bootcamp\\FinTech_Project1\\Resources\\west.csv', index = False)"
   ]
  },
  {
   "cell_type": "code",
   "execution_count": null,
   "metadata": {},
   "outputs": [],
   "source": []
  }
 ],
 "metadata": {
  "kernelspec": {
   "display_name": "Python 3",
   "language": "python",
   "name": "python3"
  },
  "language_info": {
   "codemirror_mode": {
    "name": "ipython",
    "version": 3
   },
   "file_extension": ".py",
   "mimetype": "text/x-python",
   "name": "python",
   "nbconvert_exporter": "python",
   "pygments_lexer": "ipython3",
   "version": "3.7.3"
  }
 },
 "nbformat": 4,
 "nbformat_minor": 5
}
