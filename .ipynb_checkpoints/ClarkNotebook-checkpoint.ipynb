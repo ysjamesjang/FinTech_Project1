{
 "cells": [
  {
   "cell_type": "code",
   "execution_count": 5,
   "id": "30c1927f",
   "metadata": {},
   "outputs": [],
   "source": [
    "import requests\n",
    "import pandas as pd\n",
    "import numpy as np\n",
    "# pip install pyzillow\n",
    "from pyzillow.pyzillow import ZillowWrapper, GetDeepSearchResults\n"
   ]
  },
  {
   "cell_type": "code",
   "execution_count": 7,
   "id": "823b67d4",
   "metadata": {},
   "outputs": [],
   "source": [
    "# Initiate a ZillowWrapper Object\n",
    "zillow_data = ZillowWrapper('X1-ZWz1ie5mqfeh3f_7vqv1')"
   ]
  },
  {
   "cell_type": "code",
   "execution_count": null,
   "id": "5ee2c48e",
   "metadata": {},
   "outputs": [],
   "source": []
  },
  {
   "cell_type": "code",
   "execution_count": null,
   "id": "5d20a0da",
   "metadata": {},
   "outputs": [],
   "source": []
  },
  {
   "cell_type": "code",
   "execution_count": null,
   "id": "d77f09e6",
   "metadata": {},
   "outputs": [],
   "source": []
  },
  {
   "cell_type": "code",
   "execution_count": null,
   "id": "349baecb",
   "metadata": {},
   "outputs": [],
   "source": []
  },
  {
   "cell_type": "code",
   "execution_count": null,
   "id": "f4f92b4d",
   "metadata": {},
   "outputs": [],
   "source": []
  }
 ],
 "metadata": {
  "kernelspec": {
   "display_name": "Python 3",
   "language": "python",
   "name": "python3"
  },
  "language_info": {
   "codemirror_mode": {
    "name": "ipython",
    "version": 3
   },
   "file_extension": ".py",
   "mimetype": "text/x-python",
   "name": "python",
   "nbconvert_exporter": "python",
   "pygments_lexer": "ipython3",
   "version": "3.8.5"
  }
 },
 "nbformat": 4,
 "nbformat_minor": 5
}
