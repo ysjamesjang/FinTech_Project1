{
 "cells": [
  {
   "cell_type": "code",
   "execution_count": 66,
   "id": "f8cc59ab-b60d-442a-9cb9-158e5a809acd",
   "metadata": {},
   "outputs": [],
   "source": [
    "# imports\n",
    "import numpy as np\n",
    "from datetime import datetime as dt\n",
    "import scipy.stats as st\n",
    "from scipy.stats import norm\n",
    "from pathlib import Path\n",
    "import os\n",
    "import sys\n",
    "import csv\n",
    "import matplotlib.pyplot as plt\n",
    "import math\n",
    "import seaborn as sns\n",
    "\n",
    "%matplotlib inline\n",
    "\n",
    "import panel as pn\n",
    "from panel.interact import interact\n",
    "from panel import widgets\n",
    "pn.extension('plotly')\n",
    "import plotly.express as px\n",
    "import pandas as pd\n",
    "import hvplot.pandas\n",
    "import matplotlib.pyplot as plt\n",
    "import os\n",
    "from pathlib import Path\n",
    "from dotenv import load_dotenv"
   ]
  },
  {
   "cell_type": "code",
   "execution_count": 35,
   "id": "9a7fb4bf-ff54-4072-92cc-322b7a18cf10",
   "metadata": {},
   "outputs": [],
   "source": [
    "path=os.getcwd()\n",
    "csv_path3=path+\"\\\\Resources\\Alex Files\\Metro_zhvi_uc_sfrcondo_tier_0.33_0.67_sm_sa_mon_region_tiered_narrowed_2020.csv\"\n",
    "house_2020 = pd.read_csv(csv_path3, index_col=\"Date\")\n",
    "\n",
    "midwest_actual = house_2020.drop(columns = [\"Northeast\", \"West\", \"South\"])\n",
    "west_actual = house_2020.drop(columns = [\"Northeast\", \"Midwest\", \"South\"])\n",
    "south_actual = house_2020.drop(columns = [\"Northeast\", \"Midwest\", \"West\"])\n",
    "northeast_actual = house_2020.drop(columns = [\"South\", \"Midwest\", \"West\"])\n"
   ]
  },
  {
   "cell_type": "code",
   "execution_count": 63,
   "id": "bbd7845f-f897-4340-be0b-c7c9c5ecd3f6",
   "metadata": {},
   "outputs": [],
   "source": [
    "def midwestactual():\n",
    "    \"\"\"Housing Units Per Year.\"\"\"\n",
    "    midwest_actual\n",
    "    return midwest_actual.hvplot.line(x=\"Date\", y=\"\", xlabel= \"Month\", ylabel=\"Home Price\", ylim = (142000, 170000), title = \"Midwest Region Median Home Prices\").opts(xrotation=90)\n",
    "\n",
    "def westactual():\n",
    "    \"\"\"Housing Units Per Year.\"\"\"\n",
    "    west_actual\n",
    "    return west_actual.hvplot.line(x=\"Date\", y=\"\", xlabel= \"Month\", ylabel=\"Home Price\", ylim = (330000, 385000), title = \"West Region Median Home Prices\").opts(xrotation=90)\n",
    "\n",
    "def southactual():\n",
    "    \"\"\"Housing Units Per Year.\"\"\"\n",
    "    south_actual\n",
    "    return south_actual.hvplot.line(x=\"Date\", y=\"\", xlabel= \"Month\", ylabel=\"Home Price\", ylim = (142000, 170000), title = \"South Region Median Home Prices\").opts(xrotation=90)\n",
    "\n",
    "def northeastactual():\n",
    "    \"\"\"Housing Units Per Year.\"\"\"\n",
    "    northeast_actual\n",
    "    return northeast_actual.hvplot.line(x=\"Date\", y=\"\", xlabel= \"Month\", ylabel=\"Home Price\", ylim = (200000, 230000), title = \"Northeast Region Median Home Prices\").opts(xrotation=90)\n"
   ]
  },
  {
   "cell_type": "code",
   "execution_count": 41,
   "id": "237363ab-7675-4d7d-94b5-13827b454fb5",
   "metadata": {},
   "outputs": [
    {
     "ename": "NameError",
     "evalue": "name 'midwestactual' is not defined",
     "output_type": "error",
     "traceback": [
      "\u001b[1;31m---------------------------------------------------------------------------\u001b[0m",
      "\u001b[1;31mNameError\u001b[0m                                 Traceback (most recent call last)",
      "\u001b[1;32m<ipython-input-41-402589641011>\u001b[0m in \u001b[0;36m<module>\u001b[1;34m\u001b[0m\n\u001b[1;32m----> 1\u001b[1;33m \u001b[0mmidwestactual\u001b[0m\u001b[1;33m(\u001b[0m\u001b[1;33m)\u001b[0m\u001b[1;33m\u001b[0m\u001b[1;33m\u001b[0m\u001b[0m\n\u001b[0m",
      "\u001b[1;31mNameError\u001b[0m: name 'midwestactual' is not defined"
     ]
    }
   ],
   "source": [
    "midwestactual()"
   ]
  },
  {
   "cell_type": "code",
   "execution_count": 64,
   "id": "b41be1e2-93a2-4539-b596-a8c7648892ed",
   "metadata": {},
   "outputs": [],
   "source": [
    "# Create a Title for the Dashboard\n",
    "title = '##Real Estate Analysis of San Francisco from 2010-2016'\n",
    "\n",
    "\n",
    "# Create a tab layout for the dashboard\n",
    "welcome_tab = pn.Column((title),\n",
    "                        background='grey')\n",
    "\n",
    "region_analysis_tab = pn.Column(midwestactual(),\n",
    "                                westactual(),\n",
    "                                southactual(),\n",
    "                                northeastactual())\n",
    "\n",
    "# Create the dashboard\n",
    "SF_dashboard = pn.Tabs((\"Welcome\", welcome_tab), \n",
    "(\"Neighborhood Analysis\", region_analysis_tab))"
   ]
  },
  {
   "cell_type": "code",
   "execution_count": 65,
   "id": "e853674e-c955-4171-8f07-738ffa9fe917",
   "metadata": {},
   "outputs": [
    {
     "data": {},
     "metadata": {},
     "output_type": "display_data"
    },
    {
     "data": {},
     "metadata": {},
     "output_type": "display_data"
    },
    {
     "data": {
      "application/vnd.holoviews_exec.v0+json": "",
      "text/html": [
       "<div id='6871'>\n",
       "\n",
       "\n",
       "\n",
       "\n",
       "\n",
       "  <div class=\"bk-root\" id=\"1b1b898d-ef86-4e26-a233-d36a9bc765af\" data-root-id=\"6871\"></div>\n",
       "</div>\n",
       "<script type=\"application/javascript\">(function(root) {\n",
       "  function embed_document(root) {\n",
       "    var docs_json = {\"6e6b5d58-88f6-46ac-94f0-68ed78aeb2e5\":{\"defs\":[],\"roots\":{\"references\":[{\"attributes\":{\"axis_label\":\"Home Price\",\"formatter\":{\"id\":\"7123\"},\"major_label_policy\":{\"id\":\"7121\"},\"ticker\":{\"id\":\"7093\"}},\"id\":\"7092\",\"type\":\"LinearAxis\"},{\"attributes\":{},\"id\":\"6966\",\"type\":\"ResetTool\"},{\"attributes\":{},\"id\":\"7093\",\"type\":\"BasicTicker\"},{\"attributes\":{\"axis\":{\"id\":\"7092\"},\"dimension\":1,\"grid_line_color\":null,\"ticker\":null},\"id\":\"7095\",\"type\":\"Grid\"},{\"attributes\":{},\"id\":\"6922\",\"type\":\"BasicTickFormatter\"},{\"attributes\":{},\"id\":\"6962\",\"type\":\"SaveTool\"},{\"attributes\":{\"source\":{\"id\":\"7109\"}},\"id\":\"7116\",\"type\":\"CDSView\"},{\"attributes\":{\"line_alpha\":0.2,\"line_color\":\"#30a2da\",\"line_width\":2,\"x\":{\"field\":\"Date\"},\"y\":{\"field\":\"Northeast\"}},\"id\":\"7114\",\"type\":\"Line\"},{\"attributes\":{\"callback\":null,\"renderers\":[{\"id\":\"7115\"}],\"tags\":[\"hv_created\"],\"tooltips\":[[\"Date\",\"@{Date}\"],[\"Northeast\",\"@{Northeast}\"]]},\"id\":\"7079\",\"type\":\"HoverTool\"},{\"attributes\":{\"end\":170000,\"reset_end\":170000,\"reset_start\":142000,\"start\":142000,\"tags\":[[[\"South\",\"South\",null]]]},\"id\":\"7011\",\"type\":\"Range1d\"},{\"attributes\":{},\"id\":\"7098\",\"type\":\"WheelZoomTool\"},{\"attributes\":{},\"id\":\"7100\",\"type\":\"ResetTool\"},{\"attributes\":{},\"id\":\"6984\",\"type\":\"AllLabels\"},{\"attributes\":{\"overlay\":{\"id\":\"7101\"}},\"id\":\"7099\",\"type\":\"BoxZoomTool\"},{\"attributes\":{\"bottom_units\":\"screen\",\"fill_alpha\":0.5,\"fill_color\":\"lightgrey\",\"left_units\":\"screen\",\"level\":\"overlay\",\"line_alpha\":1.0,\"line_color\":\"black\",\"line_dash\":[4,4],\"line_width\":2,\"right_units\":\"screen\",\"syncable\":false,\"top_units\":\"screen\"},\"id\":\"6967\",\"type\":\"BoxAnnotation\"},{\"attributes\":{\"active_multi\":null,\"tools\":[{\"id\":\"6945\"},{\"id\":\"6962\"},{\"id\":\"6963\"},{\"id\":\"6964\"},{\"id\":\"6965\"},{\"id\":\"6966\"}]},\"id\":\"6968\",\"type\":\"Toolbar\"},{\"attributes\":{\"line_alpha\":0.1,\"line_color\":\"#30a2da\",\"line_width\":2,\"x\":{\"field\":\"Date\"},\"y\":{\"field\":\"West\"}},\"id\":\"6979\",\"type\":\"Line\"},{\"attributes\":{\"data_source\":{\"id\":\"7109\"},\"glyph\":{\"id\":\"7112\"},\"hover_glyph\":null,\"muted_glyph\":{\"id\":\"7114\"},\"nonselection_glyph\":{\"id\":\"7113\"},\"selection_glyph\":{\"id\":\"7117\"},\"view\":{\"id\":\"7116\"}},\"id\":\"7115\",\"type\":\"GlyphRenderer\"},{\"attributes\":{\"axis\":{\"id\":\"6955\"},\"grid_line_color\":null,\"ticker\":null},\"id\":\"6957\",\"type\":\"Grid\"},{\"attributes\":{\"axis\":{\"id\":\"7022\"},\"grid_line_color\":null,\"ticker\":null},\"id\":\"7024\",\"type\":\"Grid\"},{\"attributes\":{\"below\":[{\"id\":\"6955\"}],\"center\":[{\"id\":\"6957\"},{\"id\":\"6961\"}],\"height\":300,\"left\":[{\"id\":\"6958\"}],\"margin\":[5,5,5,5],\"min_border_bottom\":10,\"min_border_left\":10,\"min_border_right\":10,\"min_border_top\":10,\"renderers\":[{\"id\":\"6981\"}],\"sizing_mode\":\"fixed\",\"title\":{\"id\":\"6947\"},\"toolbar\":{\"id\":\"6968\"},\"width\":700,\"x_range\":{\"id\":\"6876\"},\"x_scale\":{\"id\":\"6951\"},\"y_range\":{\"id\":\"6944\"},\"y_scale\":{\"id\":\"6953\"}},\"id\":\"6946\",\"subtype\":\"Figure\",\"type\":\"Plot\"},{\"attributes\":{},\"id\":\"7051\",\"type\":\"AllLabels\"},{\"attributes\":{\"line_color\":\"#30a2da\",\"line_width\":2,\"x\":{\"field\":\"Date\"},\"y\":{\"field\":\"West\"}},\"id\":\"6983\",\"type\":\"Line\"},{\"attributes\":{\"end\":385000,\"reset_end\":385000,\"reset_start\":330000,\"start\":330000,\"tags\":[[[\"West\",\"West\",null]]]},\"id\":\"6944\",\"type\":\"Range1d\"},{\"attributes\":{},\"id\":\"6986\",\"type\":\"CategoricalTickFormatter\"},{\"attributes\":{\"reload\":false},\"id\":\"7386\",\"type\":\"panel.models.location.Location\"},{\"attributes\":{},\"id\":\"6959\",\"type\":\"BasicTicker\"},{\"attributes\":{\"data_source\":{\"id\":\"7042\"},\"glyph\":{\"id\":\"7045\"},\"hover_glyph\":null,\"muted_glyph\":{\"id\":\"7047\"},\"nonselection_glyph\":{\"id\":\"7046\"},\"selection_glyph\":{\"id\":\"7050\"},\"view\":{\"id\":\"7049\"}},\"id\":\"7048\",\"type\":\"GlyphRenderer\"},{\"attributes\":{\"active_multi\":null,\"tools\":[{\"id\":\"7079\"},{\"id\":\"7096\"},{\"id\":\"7097\"},{\"id\":\"7098\"},{\"id\":\"7099\"},{\"id\":\"7100\"}]},\"id\":\"7102\",\"type\":\"Toolbar\"},{\"attributes\":{},\"id\":\"6989\",\"type\":\"BasicTickFormatter\"},{\"attributes\":{\"callback\":null,\"renderers\":[{\"id\":\"7048\"}],\"tags\":[\"hv_created\"],\"tooltips\":[[\"Date\",\"@{Date}\"],[\"South\",\"@{South}\"]]},\"id\":\"7012\",\"type\":\"HoverTool\"},{\"attributes\":{\"text\":\"West Region Median Home Prices\",\"text_color\":\"black\",\"text_font_size\":\"12pt\"},\"id\":\"6947\",\"type\":\"Title\"},{\"attributes\":{},\"id\":\"6987\",\"type\":\"AllLabels\"},{\"attributes\":{\"below\":[{\"id\":\"7022\"}],\"center\":[{\"id\":\"7024\"},{\"id\":\"7028\"}],\"height\":300,\"left\":[{\"id\":\"7025\"}],\"margin\":[5,5,5,5],\"min_border_bottom\":10,\"min_border_left\":10,\"min_border_right\":10,\"min_border_top\":10,\"renderers\":[{\"id\":\"7048\"}],\"sizing_mode\":\"fixed\",\"title\":{\"id\":\"7014\"},\"toolbar\":{\"id\":\"7035\"},\"width\":700,\"x_range\":{\"id\":\"6876\"},\"x_scale\":{\"id\":\"7018\"},\"y_range\":{\"id\":\"7011\"},\"y_scale\":{\"id\":\"7020\"}},\"id\":\"7013\",\"subtype\":\"Figure\",\"type\":\"Plot\"},{\"attributes\":{},\"id\":\"7029\",\"type\":\"SaveTool\"},{\"attributes\":{\"axis_label\":\"Month\",\"formatter\":{\"id\":\"6986\"},\"major_label_orientation\":1.5707963267948966,\"major_label_policy\":{\"id\":\"6984\"},\"ticker\":{\"id\":\"6956\"}},\"id\":\"6955\",\"type\":\"CategoricalAxis\"},{\"attributes\":{},\"id\":\"7043\",\"type\":\"Selection\"},{\"attributes\":{\"bottom_units\":\"screen\",\"fill_alpha\":0.5,\"fill_color\":\"lightgrey\",\"left_units\":\"screen\",\"level\":\"overlay\",\"line_alpha\":1.0,\"line_color\":\"black\",\"line_dash\":[4,4],\"line_width\":2,\"right_units\":\"screen\",\"syncable\":false,\"top_units\":\"screen\"},\"id\":\"7101\",\"type\":\"BoxAnnotation\"},{\"attributes\":{},\"id\":\"6951\",\"type\":\"CategoricalScale\"},{\"attributes\":{\"callback\":null,\"renderers\":[{\"id\":\"6914\"}],\"tags\":[\"hv_created\"],\"tooltips\":[[\"Date\",\"@{Date}\"],[\"Midwest\",\"@{Midwest}\"]]},\"id\":\"6878\",\"type\":\"HoverTool\"},{\"attributes\":{\"data\":{\"Date\":[\"2/29/2020\",\"3/31/2020\",\"4/30/2020\",\"5/31/2020\",\"6/30/2020\",\"7/31/2020\",\"8/31/2020\",\"9/30/2020\",\"10/31/2020\",\"11/30/2020\",\"12/31/2020\",\"1/31/2021\",\"2/28/2021\",\"3/31/2021\",\"4/30/2021\"],\"West\":{\"__ndarray__\":\"ak3zTl6OFEGF61G4DqcUQTSAt4CMuxRBP1db8WHQFEFzaJGtc9gUQVafq20bAxVBJ8KGJ78rFUGoV8ryFlwVQSqpExBTkxVBw/UoXOPRFUHjx5j7nBQWQd6Th8WrVxZBw/UoXEufFkEJih8jNO0WQWZmZmZyRxdB\",\"dtype\":\"float64\",\"order\":\"little\",\"shape\":[15]}},\"selected\":{\"id\":\"6976\"},\"selection_policy\":{\"id\":\"6997\"}},\"id\":\"6975\",\"type\":\"ColumnDataSource\"},{\"attributes\":{},\"id\":\"7026\",\"type\":\"BasicTicker\"},{\"attributes\":{},\"id\":\"7097\",\"type\":\"PanTool\"},{\"attributes\":{\"line_alpha\":0.1,\"line_color\":\"#30a2da\",\"line_width\":2,\"x\":{\"field\":\"Date\"},\"y\":{\"field\":\"South\"}},\"id\":\"7046\",\"type\":\"Line\"},{\"attributes\":{},\"id\":\"6953\",\"type\":\"LinearScale\"},{\"attributes\":{\"line_color\":\"#30a2da\",\"line_width\":2,\"x\":{\"field\":\"Date\"},\"y\":{\"field\":\"Northeast\"}},\"id\":\"7117\",\"type\":\"Line\"},{\"attributes\":{\"line_color\":\"#30a2da\",\"line_width\":2,\"x\":{\"field\":\"Date\"},\"y\":{\"field\":\"West\"}},\"id\":\"6978\",\"type\":\"Line\"},{\"attributes\":{},\"id\":\"7064\",\"type\":\"UnionRenderers\"},{\"attributes\":{\"text\":\"South Region Median Home Prices\",\"text_color\":\"black\",\"text_font_size\":\"12pt\"},\"id\":\"7014\",\"type\":\"Title\"},{\"attributes\":{},\"id\":\"6956\",\"type\":\"CategoricalTicker\"},{\"attributes\":{\"end\":170000,\"reset_end\":170000,\"reset_start\":142000,\"start\":142000,\"tags\":[[[\"Midwest\",\"Midwest\",null]]]},\"id\":\"6877\",\"type\":\"Range1d\"},{\"attributes\":{\"axis_label\":\"Home Price\",\"formatter\":{\"id\":\"6989\"},\"major_label_policy\":{\"id\":\"6987\"},\"ticker\":{\"id\":\"6959\"}},\"id\":\"6958\",\"type\":\"LinearAxis\"},{\"attributes\":{\"axis_label\":\"Month\",\"formatter\":{\"id\":\"7053\"},\"major_label_orientation\":1.5707963267948966,\"major_label_policy\":{\"id\":\"7051\"},\"ticker\":{\"id\":\"7023\"}},\"id\":\"7022\",\"type\":\"CategoricalAxis\"},{\"attributes\":{\"axis\":{\"id\":\"6958\"},\"dimension\":1,\"grid_line_color\":null,\"ticker\":null},\"id\":\"6961\",\"type\":\"Grid\"},{\"attributes\":{},\"id\":\"7018\",\"type\":\"CategoricalScale\"},{\"attributes\":{},\"id\":\"7120\",\"type\":\"CategoricalTickFormatter\"},{\"attributes\":{},\"id\":\"7020\",\"type\":\"LinearScale\"},{\"attributes\":{\"data\":{\"Date\":[\"2/29/2020\",\"3/31/2020\",\"4/30/2020\",\"5/31/2020\",\"6/30/2020\",\"7/31/2020\",\"8/31/2020\",\"9/30/2020\",\"10/31/2020\",\"11/30/2020\",\"12/31/2020\",\"1/31/2021\",\"2/28/2021\",\"3/31/2021\",\"4/30/2021\"],\"Midwest\":{\"__ndarray__\":\"i/1ldy0WAkGP5PIfjSECQf8h/fZZLgJBiPTbV+xAAkHTvOMUuU4CQc9m1WduXwJBB84ZUX9zAkG5jQZw/YoCQeqVsgzypQJBwFsgwVzLAkGad5wiWvMCQRIUP0abHANBfa624qc8A0H0bFb9Um8DQR4Wak0DnANB\",\"dtype\":\"float64\",\"order\":\"little\",\"shape\":[15]}},\"selected\":{\"id\":\"6909\"},\"selection_policy\":{\"id\":\"6930\"}},\"id\":\"6908\",\"type\":\"ColumnDataSource\"},{\"attributes\":{},\"id\":\"6895\",\"type\":\"SaveTool\"},{\"attributes\":{\"source\":{\"id\":\"6975\"}},\"id\":\"6982\",\"type\":\"CDSView\"},{\"attributes\":{\"source\":{\"id\":\"7042\"}},\"id\":\"7049\",\"type\":\"CDSView\"},{\"attributes\":{},\"id\":\"7123\",\"type\":\"BasicTickFormatter\"},{\"attributes\":{},\"id\":\"7023\",\"type\":\"CategoricalTicker\"},{\"attributes\":{\"below\":[{\"id\":\"6888\"}],\"center\":[{\"id\":\"6890\"},{\"id\":\"6894\"}],\"height\":300,\"left\":[{\"id\":\"6891\"}],\"margin\":[5,5,5,5],\"min_border_bottom\":10,\"min_border_left\":10,\"min_border_right\":10,\"min_border_top\":10,\"renderers\":[{\"id\":\"6914\"}],\"sizing_mode\":\"fixed\",\"title\":{\"id\":\"6880\"},\"toolbar\":{\"id\":\"6901\"},\"width\":700,\"x_range\":{\"id\":\"6876\"},\"x_scale\":{\"id\":\"6884\"},\"y_range\":{\"id\":\"6877\"},\"y_scale\":{\"id\":\"6886\"}},\"id\":\"6879\",\"subtype\":\"Figure\",\"type\":\"Plot\"},{\"attributes\":{\"data_source\":{\"id\":\"6975\"},\"glyph\":{\"id\":\"6978\"},\"hover_glyph\":null,\"muted_glyph\":{\"id\":\"6980\"},\"nonselection_glyph\":{\"id\":\"6979\"},\"selection_glyph\":{\"id\":\"6983\"},\"view\":{\"id\":\"6982\"}},\"id\":\"6981\",\"type\":\"GlyphRenderer\"},{\"attributes\":{},\"id\":\"7131\",\"type\":\"UnionRenderers\"},{\"attributes\":{\"axis_label\":\"Home Price\",\"formatter\":{\"id\":\"7056\"},\"major_label_policy\":{\"id\":\"7054\"},\"ticker\":{\"id\":\"7026\"}},\"id\":\"7025\",\"type\":\"LinearAxis\"},{\"attributes\":{\"line_alpha\":0.2,\"line_color\":\"#30a2da\",\"line_width\":2,\"x\":{\"field\":\"Date\"},\"y\":{\"field\":\"West\"}},\"id\":\"6980\",\"type\":\"Line\"},{\"attributes\":{},\"id\":\"7121\",\"type\":\"AllLabels\"},{\"attributes\":{\"text\":\"Midwest Region Median Home Prices\",\"text_color\":\"black\",\"text_font_size\":\"12pt\"},\"id\":\"6880\",\"type\":\"Title\"},{\"attributes\":{\"axis\":{\"id\":\"7025\"},\"dimension\":1,\"grid_line_color\":null,\"ticker\":null},\"id\":\"7028\",\"type\":\"Grid\"},{\"attributes\":{},\"id\":\"6963\",\"type\":\"PanTool\"},{\"attributes\":{\"line_alpha\":0.2,\"line_color\":\"#30a2da\",\"line_width\":2,\"x\":{\"field\":\"Date\"},\"y\":{\"field\":\"South\"}},\"id\":\"7047\",\"type\":\"Line\"},{\"attributes\":{},\"id\":\"6964\",\"type\":\"WheelZoomTool\"},{\"attributes\":{\"data\":{\"Date\":[\"2/29/2020\",\"3/31/2020\",\"4/30/2020\",\"5/31/2020\",\"6/30/2020\",\"7/31/2020\",\"8/31/2020\",\"9/30/2020\",\"10/31/2020\",\"11/30/2020\",\"12/31/2020\",\"1/31/2021\",\"2/28/2021\",\"3/31/2021\",\"4/30/2021\"],\"Northeast\":{\"__ndarray__\":\"AAAAAKrSCEEfhetRFO0IQQrXo3DPBQlBmpmZmVMeCUF7FK5HUTsJQVK4HoX1YAlBj8L1KDyRCUFI4XoUHMkJQfYoXI8aCgpBpHA9CplWCkFmZmZm9KYKQVK4HoVx+ApB8tJNYt5ZC0HsUbge9aYLQQAAAAB4DQxB\",\"dtype\":\"float64\",\"order\":\"little\",\"shape\":[15]}},\"selected\":{\"id\":\"7110\"},\"selection_policy\":{\"id\":\"7131\"}},\"id\":\"7109\",\"type\":\"ColumnDataSource\"},{\"attributes\":{},\"id\":\"6930\",\"type\":\"UnionRenderers\"},{\"attributes\":{},\"id\":\"6909\",\"type\":\"Selection\"},{\"attributes\":{\"factors\":[\"2/29/2020\",\"3/31/2020\",\"4/30/2020\",\"5/31/2020\",\"6/30/2020\",\"7/31/2020\",\"8/31/2020\",\"9/30/2020\",\"10/31/2020\",\"11/30/2020\",\"12/31/2020\",\"1/31/2021\",\"2/28/2021\",\"3/31/2021\",\"4/30/2021\"],\"tags\":[[[\"Date\",\"Date\",null]]]},\"id\":\"6876\",\"type\":\"FactorRange\"},{\"attributes\":{\"line_color\":\"#30a2da\",\"line_width\":2,\"x\":{\"field\":\"Date\"},\"y\":{\"field\":\"South\"}},\"id\":\"7045\",\"type\":\"Line\"},{\"attributes\":{\"overlay\":{\"id\":\"6967\"}},\"id\":\"6965\",\"type\":\"BoxZoomTool\"},{\"attributes\":{},\"id\":\"7056\",\"type\":\"BasicTickFormatter\"},{\"attributes\":{\"client_comm_id\":\"41cba5815f5b4043847bb9e6c53e9f62\",\"comm_id\":\"e418a5010ed74f6b9a6ff32d2eb52ff6\",\"plot_id\":\"6871\"},\"id\":\"7265\",\"type\":\"panel.models.comm_manager.CommManager\"},{\"attributes\":{},\"id\":\"6997\",\"type\":\"UnionRenderers\"},{\"attributes\":{\"axis_label\":\"Month\",\"formatter\":{\"id\":\"6919\"},\"major_label_orientation\":1.5707963267948966,\"major_label_policy\":{\"id\":\"6917\"},\"ticker\":{\"id\":\"6889\"}},\"id\":\"6888\",\"type\":\"CategoricalAxis\"},{\"attributes\":{},\"id\":\"7030\",\"type\":\"PanTool\"},{\"attributes\":{\"axis\":{\"id\":\"6888\"},\"grid_line_color\":null,\"ticker\":null},\"id\":\"6890\",\"type\":\"Grid\"},{\"attributes\":{},\"id\":\"7033\",\"type\":\"ResetTool\"},{\"attributes\":{},\"id\":\"6884\",\"type\":\"CategoricalScale\"},{\"attributes\":{},\"id\":\"7031\",\"type\":\"WheelZoomTool\"},{\"attributes\":{\"margin\":[0,0,0,0],\"tabs\":[{\"id\":\"6874\"},{\"id\":\"7144\"}]},\"id\":\"6871\",\"type\":\"Tabs\"},{\"attributes\":{\"overlay\":{\"id\":\"7034\"}},\"id\":\"7032\",\"type\":\"BoxZoomTool\"},{\"attributes\":{},\"id\":\"6886\",\"type\":\"LinearScale\"},{\"attributes\":{},\"id\":\"6889\",\"type\":\"CategoricalTicker\"},{\"attributes\":{\"axis\":{\"id\":\"6891\"},\"dimension\":1,\"grid_line_color\":null,\"ticker\":null},\"id\":\"6894\",\"type\":\"Grid\"},{\"attributes\":{\"background\":\"grey\",\"children\":[{\"id\":\"6873\"}],\"margin\":[0,0,0,0],\"name\":\"Column10141\"},\"id\":\"6872\",\"type\":\"Column\"},{\"attributes\":{\"children\":[{\"id\":\"6879\"},{\"id\":\"6946\"},{\"id\":\"7013\"},{\"id\":\"7080\"}],\"margin\":[0,0,0,0],\"name\":\"Column10630\"},\"id\":\"6875\",\"type\":\"Column\"},{\"attributes\":{},\"id\":\"6892\",\"type\":\"BasicTicker\"},{\"attributes\":{\"axis_label\":\"Home Price\",\"formatter\":{\"id\":\"6922\"},\"major_label_policy\":{\"id\":\"6920\"},\"ticker\":{\"id\":\"6892\"}},\"id\":\"6891\",\"type\":\"LinearAxis\"},{\"attributes\":{\"child\":{\"id\":\"6872\"},\"name\":\"Column10141\",\"title\":\"Welcome\"},\"id\":\"6874\",\"type\":\"Panel\"},{\"attributes\":{\"line_color\":\"#30a2da\",\"line_width\":2,\"x\":{\"field\":\"Date\"},\"y\":{\"field\":\"Midwest\"}},\"id\":\"6916\",\"type\":\"Line\"},{\"attributes\":{\"child\":{\"id\":\"6875\"},\"name\":\"Column10630\",\"title\":\"Neighborhood Analysis\"},\"id\":\"7144\",\"type\":\"Panel\"},{\"attributes\":{\"data\":{\"Date\":[\"2/29/2020\",\"3/31/2020\",\"4/30/2020\",\"5/31/2020\",\"6/30/2020\",\"7/31/2020\",\"8/31/2020\",\"9/30/2020\",\"10/31/2020\",\"11/30/2020\",\"12/31/2020\",\"1/31/2021\",\"2/28/2021\",\"3/31/2021\",\"4/30/2021\"],\"South\":{\"__ndarray__\":\"ZMxdS0AfAkGtad5xGy0CQU2EDU8LOgJB0NVWbM49AkEqOpLLi1ECQecdp2j5YwJBeHqlrCqCAkGDUUmdX5wCQdBE2PCUugJBIGPu2rrgAkGxUGuakwgDQXZPHpZxMQNBTYQNT+NbA0GFfNCz+IkDQQMJip8MvQNB\",\"dtype\":\"float64\",\"order\":\"little\",\"shape\":[15]}},\"selected\":{\"id\":\"7043\"},\"selection_policy\":{\"id\":\"7064\"}},\"id\":\"7042\",\"type\":\"ColumnDataSource\"},{\"attributes\":{\"active_multi\":null,\"tools\":[{\"id\":\"7012\"},{\"id\":\"7029\"},{\"id\":\"7030\"},{\"id\":\"7031\"},{\"id\":\"7032\"},{\"id\":\"7033\"}]},\"id\":\"7035\",\"type\":\"Toolbar\"},{\"attributes\":{},\"id\":\"6917\",\"type\":\"AllLabels\"},{\"attributes\":{\"end\":230000,\"reset_end\":230000,\"reset_start\":200000,\"start\":200000,\"tags\":[[[\"Northeast\",\"Northeast\",null]]]},\"id\":\"7078\",\"type\":\"Range1d\"},{\"attributes\":{\"line_alpha\":0.1,\"line_color\":\"#30a2da\",\"line_width\":2,\"x\":{\"field\":\"Date\"},\"y\":{\"field\":\"Midwest\"}},\"id\":\"6912\",\"type\":\"Line\"},{\"attributes\":{\"bottom_units\":\"screen\",\"fill_alpha\":0.5,\"fill_color\":\"lightgrey\",\"left_units\":\"screen\",\"level\":\"overlay\",\"line_alpha\":1.0,\"line_color\":\"black\",\"line_dash\":[4,4],\"line_width\":2,\"right_units\":\"screen\",\"syncable\":false,\"top_units\":\"screen\"},\"id\":\"7034\",\"type\":\"BoxAnnotation\"},{\"attributes\":{\"line_alpha\":0.2,\"line_color\":\"#30a2da\",\"line_width\":2,\"x\":{\"field\":\"Date\"},\"y\":{\"field\":\"Midwest\"}},\"id\":\"6913\",\"type\":\"Line\"},{\"attributes\":{},\"id\":\"6896\",\"type\":\"PanTool\"},{\"attributes\":{},\"id\":\"6899\",\"type\":\"ResetTool\"},{\"attributes\":{},\"id\":\"6897\",\"type\":\"WheelZoomTool\"},{\"attributes\":{\"line_color\":\"#30a2da\",\"line_width\":2,\"x\":{\"field\":\"Date\"},\"y\":{\"field\":\"South\"}},\"id\":\"7050\",\"type\":\"Line\"},{\"attributes\":{\"overlay\":{\"id\":\"6900\"}},\"id\":\"6898\",\"type\":\"BoxZoomTool\"},{\"attributes\":{\"axis\":{\"id\":\"7089\"},\"grid_line_color\":null,\"ticker\":null},\"id\":\"7091\",\"type\":\"Grid\"},{\"attributes\":{},\"id\":\"7118\",\"type\":\"AllLabels\"},{\"attributes\":{},\"id\":\"7053\",\"type\":\"CategoricalTickFormatter\"},{\"attributes\":{\"source\":{\"id\":\"6908\"}},\"id\":\"6915\",\"type\":\"CDSView\"},{\"attributes\":{},\"id\":\"7096\",\"type\":\"SaveTool\"},{\"attributes\":{\"line_color\":\"#30a2da\",\"line_width\":2,\"x\":{\"field\":\"Date\"},\"y\":{\"field\":\"Northeast\"}},\"id\":\"7112\",\"type\":\"Line\"},{\"attributes\":{\"line_color\":\"#30a2da\",\"line_width\":2,\"x\":{\"field\":\"Date\"},\"y\":{\"field\":\"Midwest\"}},\"id\":\"6911\",\"type\":\"Line\"},{\"attributes\":{},\"id\":\"7054\",\"type\":\"AllLabels\"},{\"attributes\":{\"below\":[{\"id\":\"7089\"}],\"center\":[{\"id\":\"7091\"},{\"id\":\"7095\"}],\"height\":300,\"left\":[{\"id\":\"7092\"}],\"margin\":[5,5,5,5],\"min_border_bottom\":10,\"min_border_left\":10,\"min_border_right\":10,\"min_border_top\":10,\"renderers\":[{\"id\":\"7115\"}],\"sizing_mode\":\"fixed\",\"title\":{\"id\":\"7081\"},\"toolbar\":{\"id\":\"7102\"},\"width\":700,\"x_range\":{\"id\":\"6876\"},\"x_scale\":{\"id\":\"7085\"},\"y_range\":{\"id\":\"7078\"},\"y_scale\":{\"id\":\"7087\"}},\"id\":\"7080\",\"subtype\":\"Figure\",\"type\":\"Plot\"},{\"attributes\":{\"active_multi\":null,\"tools\":[{\"id\":\"6878\"},{\"id\":\"6895\"},{\"id\":\"6896\"},{\"id\":\"6897\"},{\"id\":\"6898\"},{\"id\":\"6899\"}]},\"id\":\"6901\",\"type\":\"Toolbar\"},{\"attributes\":{},\"id\":\"7110\",\"type\":\"Selection\"},{\"attributes\":{\"data_source\":{\"id\":\"6908\"},\"glyph\":{\"id\":\"6911\"},\"hover_glyph\":null,\"muted_glyph\":{\"id\":\"6913\"},\"nonselection_glyph\":{\"id\":\"6912\"},\"selection_glyph\":{\"id\":\"6916\"},\"view\":{\"id\":\"6915\"}},\"id\":\"6914\",\"type\":\"GlyphRenderer\"},{\"attributes\":{\"line_alpha\":0.1,\"line_color\":\"#30a2da\",\"line_width\":2,\"x\":{\"field\":\"Date\"},\"y\":{\"field\":\"Northeast\"}},\"id\":\"7113\",\"type\":\"Line\"},{\"attributes\":{\"bottom_units\":\"screen\",\"fill_alpha\":0.5,\"fill_color\":\"lightgrey\",\"left_units\":\"screen\",\"level\":\"overlay\",\"line_alpha\":1.0,\"line_color\":\"black\",\"line_dash\":[4,4],\"line_width\":2,\"right_units\":\"screen\",\"syncable\":false,\"top_units\":\"screen\"},\"id\":\"6900\",\"type\":\"BoxAnnotation\"},{\"attributes\":{},\"id\":\"6976\",\"type\":\"Selection\"},{\"attributes\":{\"text\":\"Northeast Region Median Home Prices\",\"text_color\":\"black\",\"text_font_size\":\"12pt\"},\"id\":\"7081\",\"type\":\"Title\"},{\"attributes\":{\"callback\":null,\"renderers\":[{\"id\":\"6981\"}],\"tags\":[\"hv_created\"],\"tooltips\":[[\"Date\",\"@{Date}\"],[\"West\",\"@{West}\"]]},\"id\":\"6945\",\"type\":\"HoverTool\"},{\"attributes\":{\"axis_label\":\"Month\",\"formatter\":{\"id\":\"7120\"},\"major_label_orientation\":1.5707963267948966,\"major_label_policy\":{\"id\":\"7118\"},\"ticker\":{\"id\":\"7090\"}},\"id\":\"7089\",\"type\":\"CategoricalAxis\"},{\"attributes\":{},\"id\":\"7085\",\"type\":\"CategoricalScale\"},{\"attributes\":{},\"id\":\"6919\",\"type\":\"CategoricalTickFormatter\"},{\"attributes\":{},\"id\":\"7087\",\"type\":\"LinearScale\"},{\"attributes\":{\"css_classes\":[\"markdown\"],\"margin\":[5,5,5,5],\"name\":\"Markdown10139\",\"text\":\"&lt;h2&gt;Real Estate Analysis of San Francisco from 2010-2016&lt;/h2&gt;\"},\"id\":\"6873\",\"type\":\"panel.models.markup.HTML\"},{\"attributes\":{},\"id\":\"7090\",\"type\":\"CategoricalTicker\"},{\"attributes\":{},\"id\":\"6920\",\"type\":\"AllLabels\"}],\"root_ids\":[\"6871\",\"7265\",\"7386\"]},\"title\":\"Bokeh Application\",\"version\":\"2.3.2\"}};\n",
       "    var render_items = [{\"docid\":\"6e6b5d58-88f6-46ac-94f0-68ed78aeb2e5\",\"root_ids\":[\"6871\"],\"roots\":{\"6871\":\"1b1b898d-ef86-4e26-a233-d36a9bc765af\"}}];\n",
       "    root.Bokeh.embed.embed_items_notebook(docs_json, render_items);\n",
       "  }\n",
       "  if (root.Bokeh !== undefined && root.Bokeh.Panel !== undefined && root['Plotly'] !== undefined ) {\n",
       "    embed_document(root);\n",
       "  } else {\n",
       "    var attempts = 0;\n",
       "    var timer = setInterval(function(root) {\n",
       "      if (root.Bokeh !== undefined && root.Bokeh.Panel !== undefined && root['Plotly'] !== undefined) {\n",
       "        clearInterval(timer);\n",
       "        embed_document(root);\n",
       "      } else if (document.readyState == \"complete\") {\n",
       "        attempts++;\n",
       "        if (attempts > 100) {\n",
       "          clearInterval(timer);\n",
       "          console.log(\"Bokeh: ERROR: Unable to run BokehJS code because BokehJS library is missing\");\n",
       "        }\n",
       "      }\n",
       "    }, 10, root)\n",
       "  }\n",
       "})(window);</script>"
      ],
      "text/plain": [
       "Tabs\n",
       "    [0] Column(background='grey')\n",
       "        [0] Markdown(str)\n",
       "    [1] Column\n",
       "        [0] HoloViews(Curve)\n",
       "        [1] HoloViews(Curve)\n",
       "        [2] HoloViews(Curve)\n",
       "        [3] HoloViews(Curve)"
      ]
     },
     "execution_count": 65,
     "metadata": {
      "application/vnd.holoviews_exec.v0+json": {
       "id": "6871"
      }
     },
     "output_type": "execute_result"
    }
   ],
   "source": [
    "SF_dashboard"
   ]
  },
  {
   "cell_type": "code",
   "execution_count": null,
   "id": "66bd41e2-26ef-4822-ab6e-69cfa19c88c6",
   "metadata": {},
   "outputs": [],
   "source": []
  }
 ],
 "metadata": {
  "kernelspec": {
   "display_name": "Python [conda env:pyvizenv] *",
   "language": "python",
   "name": "conda-env-pyvizenv-py"
  },
  "language_info": {
   "codemirror_mode": {
    "name": "ipython",
    "version": 3
   },
   "file_extension": ".py",
   "mimetype": "text/x-python",
   "name": "python",
   "nbconvert_exporter": "python",
   "pygments_lexer": "ipython3",
   "version": "3.7.10"
  }
 },
 "nbformat": 4,
 "nbformat_minor": 5
}
